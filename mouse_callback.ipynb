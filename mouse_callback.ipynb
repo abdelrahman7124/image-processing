{
 "cells": [
  {
   "cell_type": "code",
   "execution_count": 1,
   "metadata": {},
   "outputs": [],
   "source": [
    "import cv2"
   ]
  },
  {
   "cell_type": "code",
   "execution_count": 2,
   "metadata": {},
   "outputs": [],
   "source": [
    "#read image\n",
    "image_path = 'bunny.jpeg'\n",
    "image = cv2.imread(image_path)"
   ]
  },
  {
   "cell_type": "code",
   "execution_count": 3,
   "metadata": {},
   "outputs": [],
   "source": [
    "#displaying the image\n",
    "cv2.imshow('image', image)\n",
    "cv2.waitKey(0)\n",
    "cv2.destroyAllWindows()"
   ]
  },
  {
   "cell_type": "code",
   "execution_count": 4,
   "metadata": {},
   "outputs": [],
   "source": [
    "#function to draw a rectangle\n",
    "point1= None\n",
    "point2=None\n",
    "def draw_rectangle(event, x, y, flags, param):\n",
    "    global point1 , point2\n",
    "    if event == cv2.EVENT_LBUTTONDOWN:\n",
    "        point1 = (x,y)\n",
    "    elif event == cv2.EVENT_LBUTTONUP:\n",
    "        point2 = (x,y)\n",
    "        cv2.rectangle(image,point1,point2,(255,255,255),2)"
   ]
  },
  {
   "cell_type": "code",
   "execution_count": 5,
   "metadata": {},
   "outputs": [],
   "source": [
    "#drawing the rectangle\n",
    "cv2.namedWindow(\"Rectangle\")\n",
    "cv2.setMouseCallback(\"Rectangle\", draw_rectangle)\n",
    "while True:\n",
    "   cv2.imshow(\"Rectangle\", image)\n",
    "   if cv2.waitKey(10) == 27:\n",
    "    break\n",
    "cv2.destroyAllWindows()"
   ]
  },
  {
   "cell_type": "code",
   "execution_count": 6,
   "metadata": {},
   "outputs": [],
   "source": [
    "#distance between 2 points\n",
    "import math\n",
    "\n",
    "def distance(pointA,pointB):\n",
    "    dx = point2[0] - point1[0]\n",
    "    dy = point2[1] - point1[1]\n",
    "    return math.sqrt(dx**2 + dy**2)"
   ]
  },
  {
   "cell_type": "code",
   "execution_count": 7,
   "metadata": {},
   "outputs": [],
   "source": [
    "#function to draw a circle\n",
    "point1= None\n",
    "point2=None\n",
    "def draw_circle(event, x, y, flags, param):\n",
    "    global point1 , point2\n",
    "    if event == cv2.EVENT_LBUTTONDOWN:\n",
    "        point1 = (x,y)\n",
    "    elif event == cv2.EVENT_LBUTTONUP:\n",
    "        point2 = (x,y)\n",
    "        radius = int(distance (point1,point2))\n",
    "        cv2.circle(image,point1,radius,(0,0,0),2)\n",
    "        "
   ]
  },
  {
   "cell_type": "code",
   "execution_count": 8,
   "metadata": {},
   "outputs": [],
   "source": [
    "#drawing the circle\n",
    "cv2.namedWindow(\"Circle\")\n",
    "cv2.setMouseCallback(\"Circle\", draw_circle)\n",
    "while True:\n",
    "   cv2.imshow(\"Circle\", image)\n",
    "   if cv2.waitKey(10) == 27:\n",
    "    break\n",
    "cv2.destroyAllWindows()"
   ]
  }
 ],
 "metadata": {
  "kernelspec": {
   "display_name": "Python 3",
   "language": "python",
   "name": "python3"
  },
  "language_info": {
   "codemirror_mode": {
    "name": "ipython",
    "version": 3
   },
   "file_extension": ".py",
   "mimetype": "text/x-python",
   "name": "python",
   "nbconvert_exporter": "python",
   "pygments_lexer": "ipython3",
   "version": "3.12.5"
  }
 },
 "nbformat": 4,
 "nbformat_minor": 2
}
