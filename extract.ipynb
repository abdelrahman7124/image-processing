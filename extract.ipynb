{
 "cells": [
  {
   "cell_type": "code",
   "execution_count": 2,
   "metadata": {},
   "outputs": [],
   "source": [
    "import cv2\n",
    "import numpy as np"
   ]
  },
  {
   "cell_type": "code",
   "execution_count": 16,
   "metadata": {},
   "outputs": [],
   "source": [
    "#read the image\n",
    "image_path = 'image.jpg'\n",
    "image = cv2.imread(image_path)\n",
    "hsv = cv2.cvtColor(image, cv2.COLOR_BGR2HSV)"
   ]
  },
  {
   "cell_type": "code",
   "execution_count": 17,
   "metadata": {},
   "outputs": [],
   "source": [
    "#fun to choose the color\n",
    "lower = None\n",
    "upper = None\n",
    "def pick_color(event, x, y, flags, param):\n",
    "    global selected_hsv, result_image,lower,upper\n",
    "    if event == cv2.EVENT_LBUTTONUP:\n",
    "        selected_hsv = hsv[y, x].copy()\n",
    "\n",
    "        lower = np.array([selected_hsv[0] - 20, selected_hsv[1] - 50, selected_hsv[2] - 50])\n",
    "        upper = np.array([selected_hsv[0] + 20, selected_hsv[1] + 50, selected_hsv[2] + 50])\n",
    "\n",
    "        mask = cv2.inRange(hsv, lower, upper)\n",
    "        result_image = cv2.bitwise_and(image, image, mask=mask)\n",
    "\n",
    "        # Display the resulting image\n",
    "        cv2.imshow('Result Image', result_image)"
   ]
  },
  {
   "cell_type": "code",
   "execution_count": 18,
   "metadata": {},
   "outputs": [],
   "source": [
    "#choosing the color and displaying the image\n",
    "cv2.namedWindow('Image')\n",
    "cv2.setMouseCallback('Image', pick_color)\n",
    "while True:\n",
    "    cv2.imshow('Image', image)\n",
    "    \n",
    "    # Break the loop if the user presses the 'q' key\n",
    "    if cv2.waitKey(10) == 27:\n",
    "        break\n",
    "\n",
    "# Clean up and close windows\n",
    "cv2.destroyAllWindows()\n"
   ]
  }
 ],
 "metadata": {
  "kernelspec": {
   "display_name": "Python 3",
   "language": "python",
   "name": "python3"
  },
  "language_info": {
   "codemirror_mode": {
    "name": "ipython",
    "version": 3
   },
   "file_extension": ".py",
   "mimetype": "text/x-python",
   "name": "python",
   "nbconvert_exporter": "python",
   "pygments_lexer": "ipython3",
   "version": "3.12.5"
  }
 },
 "nbformat": 4,
 "nbformat_minor": 2
}
