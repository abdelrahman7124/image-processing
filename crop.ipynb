{
 "cells": [
  {
   "cell_type": "code",
   "execution_count": 3,
   "metadata": {},
   "outputs": [],
   "source": [
    "import cv2"
   ]
  },
  {
   "cell_type": "code",
   "execution_count": 4,
   "metadata": {},
   "outputs": [],
   "source": [
    "#read image\n",
    "image_path = 'bunny.jpeg'\n",
    "image = cv2.imread(image_path)"
   ]
  },
  {
   "cell_type": "code",
   "execution_count": 5,
   "metadata": {},
   "outputs": [],
   "source": [
    "#displaying the image\n",
    "cv2.imshow('image', image)\n",
    "cv2.waitKey(0)\n",
    "cv2.destroyAllWindows()"
   ]
  },
  {
   "cell_type": "code",
   "execution_count": 6,
   "metadata": {},
   "outputs": [],
   "source": [
    "#function to crop the image\n",
    "x1 = x2 = y1 = y2 = None\n",
    "def crop(event, x, y, flags, param):\n",
    "    global x1,x2,y1,y2\n",
    "    if event == cv2.EVENT_LBUTTONDOWN:\n",
    "        x1 = x\n",
    "        y1 = y\n",
    "    elif event == cv2.EVENT_LBUTTONUP:\n",
    "        x2 = x\n",
    "        y2 = y\n",
    "        \n",
    "       "
   ]
  },
  {
   "cell_type": "code",
   "execution_count": 7,
   "metadata": {},
   "outputs": [
    {
     "data": {
      "text/plain": [
       "True"
      ]
     },
     "execution_count": 7,
     "metadata": {},
     "output_type": "execute_result"
    }
   ],
   "source": [
    "#cropping the image\n",
    "cv2.namedWindow(\"crop\")\n",
    "cv2.setMouseCallback(\"crop\", crop)\n",
    "while True:\n",
    "   cv2.imshow(\"crop\", image)\n",
    "   if cv2.waitKey(10) == 27:\n",
    "    break\n",
    "cv2.destroyAllWindows()\n",
    "cropped_img = image[y1:y2 , x1:x2]\n",
    "cv2.imwrite('cropped_image.jpg', cropped_img)"
   ]
  },
  {
   "cell_type": "code",
   "execution_count": 8,
   "metadata": {},
   "outputs": [],
   "source": [
    "#displaying the cropped image\n",
    "cv2.imshow('cropped image', cropped_img)\n",
    "cv2.waitKey(0)\n",
    "cv2.destroyAllWindows()"
   ]
  }
 ],
 "metadata": {
  "kernelspec": {
   "display_name": "Python 3",
   "language": "python",
   "name": "python3"
  },
  "language_info": {
   "codemirror_mode": {
    "name": "ipython",
    "version": 3
   },
   "file_extension": ".py",
   "mimetype": "text/x-python",
   "name": "python",
   "nbconvert_exporter": "python",
   "pygments_lexer": "ipython3",
   "version": "3.12.5"
  }
 },
 "nbformat": 4,
 "nbformat_minor": 2
}
